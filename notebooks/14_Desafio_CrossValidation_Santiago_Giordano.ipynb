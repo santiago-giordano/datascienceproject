{
 "cells": [
  {
   "cell_type": "markdown",
   "id": "04d70ff5",
   "metadata": {},
   "source": [
    "## CrossValidation y mejora de modelos de ML"
   ]
  },
  {
   "cell_type": "code",
   "execution_count": 15,
   "id": "d43bbb14",
   "metadata": {},
   "outputs": [],
   "source": [
    "import pandas as pd\n",
    "import numpy as np\n",
    "from sklearn.model_selection import KFold, StratifiedKFold, cross_val_score\n",
    "from sklearn import linear_model, tree, ensemble"
   ]
  },
  {
   "cell_type": "code",
   "execution_count": 16,
   "id": "58d92b44",
   "metadata": {},
   "outputs": [
    {
     "data": {
      "text/plain": [
       "popularity               int64\n",
       "danceability           float64\n",
       "energy                 float64\n",
       "key                      int64\n",
       "loudness               float64\n",
       "mode                     int64\n",
       "speechiness            float64\n",
       "acousticness           float64\n",
       "instrumentalness       float64\n",
       "liveness               float64\n",
       "valence                float64\n",
       "tempo                  float64\n",
       "time_signature           int64\n",
       "release_year             int64\n",
       "years_since_release      int64\n",
       "dtype: object"
      ]
     },
     "execution_count": 16,
     "metadata": {},
     "output_type": "execute_result"
    }
   ],
   "source": [
    "df = pd.read_excel(\"spotify_dataset_clean.xlsx\", index_col=[0])\n",
    "df = df.drop(columns=['Genre', 'Title', 'Artist', 'explicit', 'release_date', 'duration_ms']) # se eliminan columnas string\n",
    "df.dtypes"
   ]
  },
  {
   "cell_type": "code",
   "execution_count": 17,
   "id": "90fa2437",
   "metadata": {},
   "outputs": [
    {
     "data": {
      "text/html": [
       "<div>\n",
       "<style scoped>\n",
       "    .dataframe tbody tr th:only-of-type {\n",
       "        vertical-align: middle;\n",
       "    }\n",
       "\n",
       "    .dataframe tbody tr th {\n",
       "        vertical-align: top;\n",
       "    }\n",
       "\n",
       "    .dataframe thead th {\n",
       "        text-align: right;\n",
       "    }\n",
       "</style>\n",
       "<table border=\"1\" class=\"dataframe\">\n",
       "  <thead>\n",
       "    <tr style=\"text-align: right;\">\n",
       "      <th></th>\n",
       "      <th>popularity</th>\n",
       "      <th>danceability</th>\n",
       "      <th>energy</th>\n",
       "      <th>key</th>\n",
       "      <th>loudness</th>\n",
       "      <th>mode</th>\n",
       "      <th>speechiness</th>\n",
       "      <th>acousticness</th>\n",
       "      <th>instrumentalness</th>\n",
       "      <th>liveness</th>\n",
       "      <th>valence</th>\n",
       "      <th>tempo</th>\n",
       "      <th>time_signature</th>\n",
       "      <th>release_year</th>\n",
       "      <th>years_since_release</th>\n",
       "    </tr>\n",
       "  </thead>\n",
       "  <tbody>\n",
       "    <tr>\n",
       "      <th>0</th>\n",
       "      <td>75</td>\n",
       "      <td>0.489</td>\n",
       "      <td>0.724</td>\n",
       "      <td>5</td>\n",
       "      <td>-8.367</td>\n",
       "      <td>1</td>\n",
       "      <td>0.0352</td>\n",
       "      <td>0.31300</td>\n",
       "      <td>0.185000</td>\n",
       "      <td>0.2870</td>\n",
       "      <td>0.150</td>\n",
       "      <td>117.292</td>\n",
       "      <td>4</td>\n",
       "      <td>1971</td>\n",
       "      <td>51</td>\n",
       "    </tr>\n",
       "    <tr>\n",
       "      <th>1</th>\n",
       "      <td>78</td>\n",
       "      <td>0.377</td>\n",
       "      <td>0.681</td>\n",
       "      <td>7</td>\n",
       "      <td>-8.039</td>\n",
       "      <td>1</td>\n",
       "      <td>0.0298</td>\n",
       "      <td>0.00088</td>\n",
       "      <td>0.002300</td>\n",
       "      <td>0.0504</td>\n",
       "      <td>0.285</td>\n",
       "      <td>108.789</td>\n",
       "      <td>4</td>\n",
       "      <td>1976</td>\n",
       "      <td>46</td>\n",
       "    </tr>\n",
       "    <tr>\n",
       "      <th>2</th>\n",
       "      <td>76</td>\n",
       "      <td>0.333</td>\n",
       "      <td>0.927</td>\n",
       "      <td>9</td>\n",
       "      <td>-8.550</td>\n",
       "      <td>0</td>\n",
       "      <td>0.0733</td>\n",
       "      <td>0.00290</td>\n",
       "      <td>0.000208</td>\n",
       "      <td>0.2970</td>\n",
       "      <td>0.385</td>\n",
       "      <td>141.466</td>\n",
       "      <td>4</td>\n",
       "      <td>1976</td>\n",
       "      <td>46</td>\n",
       "    </tr>\n",
       "    <tr>\n",
       "      <th>3</th>\n",
       "      <td>78</td>\n",
       "      <td>0.572</td>\n",
       "      <td>0.835</td>\n",
       "      <td>0</td>\n",
       "      <td>-6.219</td>\n",
       "      <td>1</td>\n",
       "      <td>0.0317</td>\n",
       "      <td>0.17100</td>\n",
       "      <td>0.000377</td>\n",
       "      <td>0.0702</td>\n",
       "      <td>0.795</td>\n",
       "      <td>129.981</td>\n",
       "      <td>4</td>\n",
       "      <td>1984</td>\n",
       "      <td>38</td>\n",
       "    </tr>\n",
       "    <tr>\n",
       "      <th>4</th>\n",
       "      <td>79</td>\n",
       "      <td>0.338</td>\n",
       "      <td>0.340</td>\n",
       "      <td>9</td>\n",
       "      <td>-12.049</td>\n",
       "      <td>0</td>\n",
       "      <td>0.0339</td>\n",
       "      <td>0.58000</td>\n",
       "      <td>0.003200</td>\n",
       "      <td>0.1160</td>\n",
       "      <td>0.197</td>\n",
       "      <td>82.433</td>\n",
       "      <td>4</td>\n",
       "      <td>1971</td>\n",
       "      <td>50</td>\n",
       "    </tr>\n",
       "  </tbody>\n",
       "</table>\n",
       "</div>"
      ],
      "text/plain": [
       "   popularity  danceability  energy  key  loudness  mode  speechiness  \\\n",
       "0          75         0.489   0.724    5    -8.367     1       0.0352   \n",
       "1          78         0.377   0.681    7    -8.039     1       0.0298   \n",
       "2          76         0.333   0.927    9    -8.550     0       0.0733   \n",
       "3          78         0.572   0.835    0    -6.219     1       0.0317   \n",
       "4          79         0.338   0.340    9   -12.049     0       0.0339   \n",
       "\n",
       "   acousticness  instrumentalness  liveness  valence    tempo  time_signature  \\\n",
       "0       0.31300          0.185000    0.2870    0.150  117.292               4   \n",
       "1       0.00088          0.002300    0.0504    0.285  108.789               4   \n",
       "2       0.00290          0.000208    0.2970    0.385  141.466               4   \n",
       "3       0.17100          0.000377    0.0702    0.795  129.981               4   \n",
       "4       0.58000          0.003200    0.1160    0.197   82.433               4   \n",
       "\n",
       "   release_year  years_since_release  \n",
       "0          1971                   51  \n",
       "1          1976                   46  \n",
       "2          1976                   46  \n",
       "3          1984                   38  \n",
       "4          1971                   50  "
      ]
     },
     "execution_count": 17,
     "metadata": {},
     "output_type": "execute_result"
    }
   ],
   "source": [
    "df.head()"
   ]
  },
  {
   "cell_type": "code",
   "execution_count": 18,
   "id": "0a2fbcbb",
   "metadata": {},
   "outputs": [
    {
     "data": {
      "text/plain": [
       "0    75\n",
       "1    78\n",
       "2    76\n",
       "3    78\n",
       "4    79\n",
       "Name: popularity, dtype: int64"
      ]
     },
     "execution_count": 18,
     "metadata": {},
     "output_type": "execute_result"
    }
   ],
   "source": [
    "# Target variable \n",
    "y = df.popularity \n",
    "y.head()"
   ]
  },
  {
   "cell_type": "code",
   "execution_count": 19,
   "id": "d9d99b51",
   "metadata": {},
   "outputs": [
    {
     "data": {
      "text/html": [
       "<div>\n",
       "<style scoped>\n",
       "    .dataframe tbody tr th:only-of-type {\n",
       "        vertical-align: middle;\n",
       "    }\n",
       "\n",
       "    .dataframe tbody tr th {\n",
       "        vertical-align: top;\n",
       "    }\n",
       "\n",
       "    .dataframe thead th {\n",
       "        text-align: right;\n",
       "    }\n",
       "</style>\n",
       "<table border=\"1\" class=\"dataframe\">\n",
       "  <thead>\n",
       "    <tr style=\"text-align: right;\">\n",
       "      <th></th>\n",
       "      <th>danceability</th>\n",
       "      <th>energy</th>\n",
       "      <th>key</th>\n",
       "      <th>loudness</th>\n",
       "      <th>mode</th>\n",
       "      <th>speechiness</th>\n",
       "      <th>acousticness</th>\n",
       "      <th>instrumentalness</th>\n",
       "      <th>liveness</th>\n",
       "      <th>valence</th>\n",
       "      <th>tempo</th>\n",
       "      <th>time_signature</th>\n",
       "      <th>release_year</th>\n",
       "      <th>years_since_release</th>\n",
       "    </tr>\n",
       "  </thead>\n",
       "  <tbody>\n",
       "    <tr>\n",
       "      <th>0</th>\n",
       "      <td>0.489</td>\n",
       "      <td>0.724</td>\n",
       "      <td>5</td>\n",
       "      <td>-8.367</td>\n",
       "      <td>1</td>\n",
       "      <td>0.0352</td>\n",
       "      <td>0.31300</td>\n",
       "      <td>0.185000</td>\n",
       "      <td>0.2870</td>\n",
       "      <td>0.150</td>\n",
       "      <td>117.292</td>\n",
       "      <td>4</td>\n",
       "      <td>1971</td>\n",
       "      <td>51</td>\n",
       "    </tr>\n",
       "    <tr>\n",
       "      <th>1</th>\n",
       "      <td>0.377</td>\n",
       "      <td>0.681</td>\n",
       "      <td>7</td>\n",
       "      <td>-8.039</td>\n",
       "      <td>1</td>\n",
       "      <td>0.0298</td>\n",
       "      <td>0.00088</td>\n",
       "      <td>0.002300</td>\n",
       "      <td>0.0504</td>\n",
       "      <td>0.285</td>\n",
       "      <td>108.789</td>\n",
       "      <td>4</td>\n",
       "      <td>1976</td>\n",
       "      <td>46</td>\n",
       "    </tr>\n",
       "    <tr>\n",
       "      <th>2</th>\n",
       "      <td>0.333</td>\n",
       "      <td>0.927</td>\n",
       "      <td>9</td>\n",
       "      <td>-8.550</td>\n",
       "      <td>0</td>\n",
       "      <td>0.0733</td>\n",
       "      <td>0.00290</td>\n",
       "      <td>0.000208</td>\n",
       "      <td>0.2970</td>\n",
       "      <td>0.385</td>\n",
       "      <td>141.466</td>\n",
       "      <td>4</td>\n",
       "      <td>1976</td>\n",
       "      <td>46</td>\n",
       "    </tr>\n",
       "    <tr>\n",
       "      <th>3</th>\n",
       "      <td>0.572</td>\n",
       "      <td>0.835</td>\n",
       "      <td>0</td>\n",
       "      <td>-6.219</td>\n",
       "      <td>1</td>\n",
       "      <td>0.0317</td>\n",
       "      <td>0.17100</td>\n",
       "      <td>0.000377</td>\n",
       "      <td>0.0702</td>\n",
       "      <td>0.795</td>\n",
       "      <td>129.981</td>\n",
       "      <td>4</td>\n",
       "      <td>1984</td>\n",
       "      <td>38</td>\n",
       "    </tr>\n",
       "    <tr>\n",
       "      <th>4</th>\n",
       "      <td>0.338</td>\n",
       "      <td>0.340</td>\n",
       "      <td>9</td>\n",
       "      <td>-12.049</td>\n",
       "      <td>0</td>\n",
       "      <td>0.0339</td>\n",
       "      <td>0.58000</td>\n",
       "      <td>0.003200</td>\n",
       "      <td>0.1160</td>\n",
       "      <td>0.197</td>\n",
       "      <td>82.433</td>\n",
       "      <td>4</td>\n",
       "      <td>1971</td>\n",
       "      <td>50</td>\n",
       "    </tr>\n",
       "  </tbody>\n",
       "</table>\n",
       "</div>"
      ],
      "text/plain": [
       "   danceability  energy  key  loudness  mode  speechiness  acousticness  \\\n",
       "0         0.489   0.724    5    -8.367     1       0.0352       0.31300   \n",
       "1         0.377   0.681    7    -8.039     1       0.0298       0.00088   \n",
       "2         0.333   0.927    9    -8.550     0       0.0733       0.00290   \n",
       "3         0.572   0.835    0    -6.219     1       0.0317       0.17100   \n",
       "4         0.338   0.340    9   -12.049     0       0.0339       0.58000   \n",
       "\n",
       "   instrumentalness  liveness  valence    tempo  time_signature  release_year  \\\n",
       "0          0.185000    0.2870    0.150  117.292               4          1971   \n",
       "1          0.002300    0.0504    0.285  108.789               4          1976   \n",
       "2          0.000208    0.2970    0.385  141.466               4          1976   \n",
       "3          0.000377    0.0702    0.795  129.981               4          1984   \n",
       "4          0.003200    0.1160    0.197   82.433               4          1971   \n",
       "\n",
       "   years_since_release  \n",
       "0                   51  \n",
       "1                   46  \n",
       "2                   46  \n",
       "3                   38  \n",
       "4                   50  "
      ]
     },
     "execution_count": 19,
     "metadata": {},
     "output_type": "execute_result"
    }
   ],
   "source": [
    "# Input data\n",
    "df = df.drop(columns=['popularity'])\n",
    "X = df.copy()\n",
    "X.head()"
   ]
  },
  {
   "cell_type": "code",
   "execution_count": 27,
   "id": "e0f67cd3",
   "metadata": {},
   "outputs": [
    {
     "name": "stdout",
     "output_type": "stream",
     "text": [
      "Shape of input data: (5807, 14) and shape of target variable: (5807,)\n"
     ]
    }
   ],
   "source": [
    "print(\"Shape of input data: {} and shape of target variable: {}\".format(X.shape, y.shape))"
   ]
  },
  {
   "cell_type": "markdown",
   "id": "2bc2f047",
   "metadata": {},
   "source": [
    "#### Model Score Using KFold"
   ]
  },
  {
   "cell_type": "code",
   "execution_count": 20,
   "id": "999ed8f1",
   "metadata": {},
   "outputs": [
    {
     "name": "stdout",
     "output_type": "stream",
     "text": [
      "Fold:1, Train set: 4645, Test set:1162\n",
      "Fold:2, Train set: 4645, Test set:1162\n",
      "Fold:3, Train set: 4646, Test set:1161\n",
      "Fold:4, Train set: 4646, Test set:1161\n",
      "Fold:5, Train set: 4646, Test set:1161\n"
     ]
    }
   ],
   "source": [
    "# Lets split the data into 5 folds.  \n",
    "# We will use this 'kf'(KFold splitting stratergy) object as input to cross_val_score() method\n",
    "kf =KFold(n_splits=5, shuffle=True, random_state=42)\n",
    "\n",
    "cnt = 1\n",
    "# split()  method generate indices to split data into training and test set.\n",
    "for train_index, test_index in kf.split(X, y):\n",
    "    print(f'Fold:{cnt}, Train set: {len(train_index)}, Test set:{len(test_index)}')\n",
    "    cnt += 1"
   ]
  },
  {
   "cell_type": "code",
   "execution_count": 21,
   "id": "301f0190",
   "metadata": {},
   "outputs": [],
   "source": [
    "def rmse(score):\n",
    "    rmse = np.sqrt(-score)\n",
    "    print(f'rmse= {\"{:.2f}\".format(rmse)}')"
   ]
  },
  {
   "cell_type": "code",
   "execution_count": 22,
   "id": "79448aee",
   "metadata": {},
   "outputs": [
    {
     "name": "stdout",
     "output_type": "stream",
     "text": [
      "Scores for each fold: [-176.39626939 -165.59819869 -146.89301507 -166.07655284 -161.73875847]\n",
      "rmse= 12.78\n"
     ]
    }
   ],
   "source": [
    "# Using Linear Regression \n",
    "score = cross_val_score(linear_model.LinearRegression(), X, y, cv= kf, scoring=\"neg_mean_squared_error\")\n",
    "print(f'Scores for each fold: {score}')\n",
    "rmse(score.mean())"
   ]
  },
  {
   "cell_type": "code",
   "execution_count": 23,
   "id": "cfbc4b57",
   "metadata": {},
   "outputs": [
    {
     "name": "stdout",
     "output_type": "stream",
     "text": [
      "Scores for each fold: [-307.11531842 -319.5        -287.29371232 -281.33161068 -315.9121447 ]\n",
      "rmse= 17.38\n"
     ]
    }
   ],
   "source": [
    "# Using Decision Tree Regressor\n",
    "score = cross_val_score(tree.DecisionTreeRegressor(random_state= 42), X, y, cv=kf, scoring=\"neg_mean_squared_error\")\n",
    "print(f'Scores for each fold: {score}')\n",
    "rmse(score.mean())"
   ]
  },
  {
   "cell_type": "code",
   "execution_count": 24,
   "id": "d8c2c4bf",
   "metadata": {},
   "outputs": [
    {
     "name": "stdout",
     "output_type": "stream",
     "text": [
      "Scores for each fold are: [-162.13858838 -152.88115818 -135.56844376 -151.53373023 -144.96630026]\n",
      "rmse= 12.22\n"
     ]
    }
   ],
   "source": [
    "# Using Random Forest Regressor\n",
    "score = cross_val_score(ensemble.RandomForestRegressor(random_state= 42), X, y, cv= kf, scoring=\"neg_mean_squared_error\")\n",
    "print(f'Scores for each fold are: {score}')\n",
    "rmse(score.mean())"
   ]
  },
  {
   "cell_type": "markdown",
   "id": "7343419a",
   "metadata": {},
   "source": [
    "#### Model Tuning using KFold "
   ]
  },
  {
   "cell_type": "code",
   "execution_count": 25,
   "id": "23ba3ff9",
   "metadata": {},
   "outputs": [
    {
     "name": "stdout",
     "output_type": "stream",
     "text": [
      "For max depth: 1\n",
      "rmse= 12.95\n",
      "For max depth: 2\n",
      "rmse= 12.68\n",
      "For max depth: 3\n",
      "rmse= 12.52\n",
      "For max depth: 4\n",
      "rmse= 12.53\n",
      "For max depth: 5\n",
      "rmse= 12.62\n",
      "For max depth: 6\n",
      "rmse= 12.72\n",
      "For max depth: 7\n",
      "rmse= 12.91\n",
      "For max depth: 8\n",
      "rmse= 13.16\n",
      "For max depth: 9\n",
      "rmse= 13.56\n",
      "For max depth: 10\n",
      "rmse= 14.05\n"
     ]
    }
   ],
   "source": [
    "# Decision Tree Regressor Tuning \n",
    "max_depth = [1,2,3,4,5,6,7,8,9,10]\n",
    "\n",
    "for val in max_depth:\n",
    "    score = cross_val_score(tree.DecisionTreeRegressor(max_depth= val, random_state= 42), X, y, cv= kf, scoring=\"neg_mean_squared_error\")\n",
    "    print(f'For max depth: {val}')\n",
    "    rmse(score.mean())"
   ]
  },
  {
   "cell_type": "code",
   "execution_count": 26,
   "id": "1f451989",
   "metadata": {},
   "outputs": [
    {
     "name": "stdout",
     "output_type": "stream",
     "text": [
      "For estimators: 50\n",
      "rmse= 12.31\n",
      "For estimators: 100\n",
      "rmse= 12.22\n",
      "For estimators: 150\n",
      "rmse= 12.21\n",
      "For estimators: 200\n",
      "rmse= 12.20\n",
      "For estimators: 250\n",
      "rmse= 12.19\n",
      "For estimators: 300\n",
      "rmse= 12.20\n",
      "For estimators: 350\n",
      "rmse= 12.20\n"
     ]
    }
   ],
   "source": [
    "# Random Forest Regressor Tuning\n",
    "estimators = [50, 100, 150, 200, 250, 300, 350]\n",
    "\n",
    "for count in estimators:\n",
    "    score = cross_val_score(ensemble.RandomForestRegressor(n_estimators= count, random_state= 42), X, y, cv= kf, scoring=\"neg_mean_squared_error\")\n",
    "    print(f'For estimators: {count}')\n",
    "    rmse(score.mean())"
   ]
  }
 ],
 "metadata": {
  "kernelspec": {
   "display_name": "Python 3 (ipykernel)",
   "language": "python",
   "name": "python3"
  },
  "language_info": {
   "codemirror_mode": {
    "name": "ipython",
    "version": 3
   },
   "file_extension": ".py",
   "mimetype": "text/x-python",
   "name": "python",
   "nbconvert_exporter": "python",
   "pygments_lexer": "ipython3",
   "version": "3.9.13"
  }
 },
 "nbformat": 4,
 "nbformat_minor": 5
}
